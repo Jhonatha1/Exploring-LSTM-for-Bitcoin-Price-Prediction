{
 "cells": [
  {
   "cell_type": "code",
   "execution_count": 5,
   "metadata": {},
   "outputs": [],
   "source": [
    "from BTools import *\n"
   ]
  },
  {
   "cell_type": "code",
   "execution_count": 6,
   "metadata": {},
   "outputs": [
    {
     "name": "stdout",
     "output_type": "stream",
     "text": [
      "[<BTools.pair object at 0x7f6d7c336970>, <BTools.pair object at 0x7f6d7c34c0a0>, <BTools.pair object at 0x7f6d7c34c9d0>, <BTools.pair object at 0x7f6d7c3426d0>, <BTools.pair object at 0x7f6d7c342ee0>, <BTools.pair object at 0x7f6d7c342f70>, <BTools.pair object at 0x7f6d7c1194f0>, <BTools.pair object at 0x7f6d7c1194c0>, <BTools.pair object at 0x7f6d7c119610>, <BTools.pair object at 0x7f6d7c119940>]\n"
     ]
    }
   ],
   "source": [
    "mika = pairs()\n",
    "for i in mika.get(\"BTC\"):\n",
    "    print(i)"
   ]
  }
 ],
 "metadata": {
  "kernelspec": {
   "display_name": "tf",
   "language": "python",
   "name": "python3"
  },
  "language_info": {
   "codemirror_mode": {
    "name": "ipython",
    "version": 3
   },
   "file_extension": ".py",
   "mimetype": "text/x-python",
   "name": "python",
   "nbconvert_exporter": "python",
   "pygments_lexer": "ipython3",
   "version": "3.9.16"
  },
  "orig_nbformat": 4
 },
 "nbformat": 4,
 "nbformat_minor": 2
}
