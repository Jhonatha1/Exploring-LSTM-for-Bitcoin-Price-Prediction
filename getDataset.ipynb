{
 "cells": [
  {
   "attachments": {},
   "cell_type": "markdown",
   "metadata": {},
   "source": [
    "#### Binance data scrapping using BTools\n",
    "##### Author: Mickael de Oliveira\n",
    "###### Example of BTools for easily acess to exchanges APIs\n",
    "###### See more in: TODO"
   ]
  },
  {
   "attachments": {},
   "cell_type": "markdown",
   "metadata": {},
   "source": [
    "#### Importing libs"
   ]
  },
  {
   "cell_type": "code",
   "execution_count": 1,
   "metadata": {},
   "outputs": [],
   "source": [
    "from BTools import *\n",
    "import pandas as pd"
   ]
  },
  {
   "attachments": {},
   "cell_type": "markdown",
   "metadata": {},
   "source": [
    "#### Constants section"
   ]
  },
  {
   "cell_type": "code",
   "execution_count": 2,
   "metadata": {},
   "outputs": [],
   "source": [
    "TIMESTART = 1514689200000 # 2018-01-01 00:00:00\n",
    "TIMEEND = 1672542000000 # 2023-01-01 00:00:00\n",
    "\n",
    "INTERVAL = \"15m\"\n",
    "DEFAULTPAIR = \"BTCUSDT\"\n",
    "\n",
    "DELTA = TIMEEND - TIMESTART\n",
    "\n",
    "CANDLES = DELTA//getTime(INTERVAL)"
   ]
  },
  {
   "attachments": {},
   "cell_type": "markdown",
   "metadata": {},
   "source": [
    "#### Creating base dataframe with bitcoin price "
   ]
  },
  {
   "cell_type": "code",
   "execution_count": 3,
   "metadata": {},
   "outputs": [
    {
     "data": {
      "text/html": [
       "<div>\n",
       "<style scoped>\n",
       "    .dataframe tbody tr th:only-of-type {\n",
       "        vertical-align: middle;\n",
       "    }\n",
       "\n",
       "    .dataframe tbody tr th {\n",
       "        vertical-align: top;\n",
       "    }\n",
       "\n",
       "    .dataframe thead th {\n",
       "        text-align: right;\n",
       "    }\n",
       "</style>\n",
       "<table border=\"1\" class=\"dataframe\">\n",
       "  <thead>\n",
       "    <tr style=\"text-align: right;\">\n",
       "      <th></th>\n",
       "      <th>timestamp</th>\n",
       "      <th>volumeRisky</th>\n",
       "      <th>volumeSafe</th>\n",
       "      <th>tradesRisky</th>\n",
       "      <th>tradesSafe</th>\n",
       "      <th>price</th>\n",
       "      <th>flag</th>\n",
       "    </tr>\n",
       "  </thead>\n",
       "  <tbody>\n",
       "    <tr>\n",
       "      <th>0</th>\n",
       "      <td>1514689200000</td>\n",
       "      <td>0</td>\n",
       "      <td>201.850986</td>\n",
       "      <td>0</td>\n",
       "      <td>2356</td>\n",
       "      <td>13162.47</td>\n",
       "      <td>0</td>\n",
       "    </tr>\n",
       "    <tr>\n",
       "      <th>1</th>\n",
       "      <td>1514690100000</td>\n",
       "      <td>0</td>\n",
       "      <td>116.966077</td>\n",
       "      <td>0</td>\n",
       "      <td>1437</td>\n",
       "      <td>13399.95</td>\n",
       "      <td>0</td>\n",
       "    </tr>\n",
       "    <tr>\n",
       "      <th>2</th>\n",
       "      <td>1514691000000</td>\n",
       "      <td>0</td>\n",
       "      <td>136.624371</td>\n",
       "      <td>0</td>\n",
       "      <td>1644</td>\n",
       "      <td>13225.85</td>\n",
       "      <td>0</td>\n",
       "    </tr>\n",
       "    <tr>\n",
       "      <th>3</th>\n",
       "      <td>1514691900000</td>\n",
       "      <td>0</td>\n",
       "      <td>181.561263</td>\n",
       "      <td>0</td>\n",
       "      <td>1858</td>\n",
       "      <td>12962.06</td>\n",
       "      <td>0</td>\n",
       "    </tr>\n",
       "    <tr>\n",
       "      <th>4</th>\n",
       "      <td>1514692800000</td>\n",
       "      <td>0</td>\n",
       "      <td>124.738029</td>\n",
       "      <td>0</td>\n",
       "      <td>1203</td>\n",
       "      <td>12896.00</td>\n",
       "      <td>0</td>\n",
       "    </tr>\n",
       "    <tr>\n",
       "      <th>...</th>\n",
       "      <td>...</td>\n",
       "      <td>...</td>\n",
       "      <td>...</td>\n",
       "      <td>...</td>\n",
       "      <td>...</td>\n",
       "      <td>...</td>\n",
       "      <td>...</td>\n",
       "    </tr>\n",
       "    <tr>\n",
       "      <th>175387</th>\n",
       "      <td>1673011800000</td>\n",
       "      <td>0</td>\n",
       "      <td>8656.382630</td>\n",
       "      <td>0</td>\n",
       "      <td>173424</td>\n",
       "      <td>16777.93</td>\n",
       "      <td>0</td>\n",
       "    </tr>\n",
       "    <tr>\n",
       "      <th>175388</th>\n",
       "      <td>1673012700000</td>\n",
       "      <td>0</td>\n",
       "      <td>4540.690760</td>\n",
       "      <td>0</td>\n",
       "      <td>106208</td>\n",
       "      <td>16774.19</td>\n",
       "      <td>0</td>\n",
       "    </tr>\n",
       "    <tr>\n",
       "      <th>175389</th>\n",
       "      <td>1673013600000</td>\n",
       "      <td>0</td>\n",
       "      <td>2330.001460</td>\n",
       "      <td>0</td>\n",
       "      <td>67331</td>\n",
       "      <td>16756.22</td>\n",
       "      <td>0</td>\n",
       "    </tr>\n",
       "    <tr>\n",
       "      <th>175390</th>\n",
       "      <td>1673014500000</td>\n",
       "      <td>0</td>\n",
       "      <td>2250.175950</td>\n",
       "      <td>0</td>\n",
       "      <td>62809</td>\n",
       "      <td>16762.26</td>\n",
       "      <td>0</td>\n",
       "    </tr>\n",
       "    <tr>\n",
       "      <th>175391</th>\n",
       "      <td>1673015400000</td>\n",
       "      <td>0</td>\n",
       "      <td>4068.769550</td>\n",
       "      <td>0</td>\n",
       "      <td>101747</td>\n",
       "      <td>16729.82</td>\n",
       "      <td>0</td>\n",
       "    </tr>\n",
       "  </tbody>\n",
       "</table>\n",
       "<p>175392 rows × 7 columns</p>\n",
       "</div>"
      ],
      "text/plain": [
       "            timestamp  volumeRisky   volumeSafe  tradesRisky  tradesSafe  \\\n",
       "0       1514689200000            0   201.850986            0        2356   \n",
       "1       1514690100000            0   116.966077            0        1437   \n",
       "2       1514691000000            0   136.624371            0        1644   \n",
       "3       1514691900000            0   181.561263            0        1858   \n",
       "4       1514692800000            0   124.738029            0        1203   \n",
       "...               ...          ...          ...          ...         ...   \n",
       "175387  1673011800000            0  8656.382630            0      173424   \n",
       "175388  1673012700000            0  4540.690760            0      106208   \n",
       "175389  1673013600000            0  2330.001460            0       67331   \n",
       "175390  1673014500000            0  2250.175950            0       62809   \n",
       "175391  1673015400000            0  4068.769550            0      101747   \n",
       "\n",
       "           price  flag  \n",
       "0       13162.47     0  \n",
       "1       13399.95     0  \n",
       "2       13225.85     0  \n",
       "3       12962.06     0  \n",
       "4       12896.00     0  \n",
       "...          ...   ...  \n",
       "175387  16777.93     0  \n",
       "175388  16774.19     0  \n",
       "175389  16756.22     0  \n",
       "175390  16762.26     0  \n",
       "175391  16729.82     0  \n",
       "\n",
       "[175392 rows x 7 columns]"
      ]
     },
     "execution_count": 3,
     "metadata": {},
     "output_type": "execute_result"
    }
   ],
   "source": [
    "dados = []\n",
    "for i in getCandlestick(TIMESTART,DEFAULTPAIR,INTERVAL,CANDLES,0):\n",
    "    dados.append({\"timestamp\": i[0], \"volumeRisky\" : 0, \"volumeSafe\": i[3],\"tradesRisky\": 0, \"tradesSafe\": i[4], \"price\": i[2]})\n",
    "    \n",
    "data = pd.DataFrame(dados)\n",
    "data"
   ]
  },
  {
   "attachments": {},
   "cell_type": "markdown",
   "metadata": {},
   "source": [
    "#### Searching for remanescent pairs from 2018 and appending to database"
   ]
  },
  {
   "cell_type": "code",
   "execution_count": 4,
   "metadata": {},
   "outputs": [],
   "source": [
    "mPair = pairs()\n",
    "for i in mPair.get(\"BTC\",timeStart=TIMESTART, timeEnd=TIMEEND):\n",
    "    if str(i) != \"BTCUSDT\":\n",
    "        if i.getBase() == \"BTC\":\n",
    "            control = 0\n",
    "        else:\n",
    "            control = 1\n",
    "            \n",
    "        if i.isSafe():\n",
    "            count = 0\n",
    "            for j in getCandlestick(TIMESTART,i,INTERVAL,CANDLES,control):\n",
    "                data.loc[count,\"volumeSafe\"] += j[3]\n",
    "                data.loc[count,\"tradesSafe\"] += j[4]\n",
    "                count += 1\n",
    "        \n",
    "        else:\n",
    "            count = 0\n",
    "            for j in getCandlestick(TIMESTART,i,INTERVAL,CANDLES,control):\n",
    "                data.loc[count,\"volumeRisky\"] += j[3]\n",
    "                data.loc[count,\"tradesRisky\"] += j[4]\n",
    "                count += 1\n",
    "\n",
    "data"
   ]
  },
  {
   "attachments": {},
   "cell_type": "markdown",
   "metadata": {},
   "source": [
    "#### Finding volume in Dollars to make more intuitive data"
   ]
  },
  {
   "cell_type": "code",
   "execution_count": null,
   "metadata": {},
   "outputs": [],
   "source": [
    "for index, row in data.iterrows():\n",
    "    data.loc[index,\"volumeRisky\"] *= data.loc[index,\"price\"]\n",
    "    data.loc[index,\"volumeSafe\"] *= data.loc[index,\"price\"]\n",
    "data"
   ]
  },
  {
   "cell_type": "code",
   "execution_count": null,
   "metadata": {},
   "outputs": [],
   "source": [
    "data.to_csv(\"data.csv\",index=False)"
   ]
  }
 ],
 "metadata": {
  "kernelspec": {
   "display_name": "tf",
   "language": "python",
   "name": "python3"
  },
  "language_info": {
   "codemirror_mode": {
    "name": "ipython",
    "version": 3
   },
   "file_extension": ".py",
   "mimetype": "text/x-python",
   "name": "python",
   "nbconvert_exporter": "python",
   "pygments_lexer": "ipython3",
   "version": "3.9.16"
  },
  "orig_nbformat": 4
 },
 "nbformat": 4,
 "nbformat_minor": 2
}
